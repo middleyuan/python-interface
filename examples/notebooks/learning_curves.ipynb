{
 "cells": [
  {
   "cell_type": "code",
   "execution_count": null,
   "metadata": {},
   "outputs": [],
   "source": [
    "!pip install tinyrl[mkl] gymnasium matplotlib"
   ]
  },
  {
   "cell_type": "code",
   "execution_count": null,
   "metadata": {},
   "outputs": [],
   "source": [
    "from tinyrl import SAC\n",
    "import matplotlib.pyplot as plt\n",
    "import gymnasium as gym\n",
    "import numpy as np\n",
    "import os\n",
    "\n",
    "custom_environment = {\n",
    "    \"path\": os.path.abspath(\"../custom_environment\"),\n",
    "    \"action_dim\": 1,\n",
    "    \"observation_dim\": 3,\n",
    "}"
   ]
  },
  {
   "cell_type": "code",
   "execution_count": null,
   "metadata": {},
   "outputs": [],
   "source": [
    "n_seeds = 2\n",
    "n_steps = 10000\n",
    "evaluation_interval = 1000\n",
    "environment_name = \"Pendulum-v1\"\n",
    "use_python_environment = True"
   ]
  },
  {
   "cell_type": "code",
   "execution_count": null,
   "metadata": {},
   "outputs": [],
   "source": [
    "def evaluate_policy(policy, n_episodes=10):\n",
    "    env_replay = gym.make(environment_name)\n",
    "    env_replay.reset(seed=0xf00d)\n",
    "    returns = []\n",
    "    for episode_i in range(n_episodes):\n",
    "        observation, _ = env_replay.reset()\n",
    "        finished = False\n",
    "        rewards = 0\n",
    "        while not finished:\n",
    "            action = policy(observation)\n",
    "            observation, reward, terminated, truncated, _ = env_replay.step(action)\n",
    "            rewards += reward\n",
    "            finished = terminated or truncated\n",
    "        returns.append(rewards)\n",
    "    return returns\n",
    "\n",
    "def scale_action(action, env):\n",
    "    return action * (env.action_space.high - env.action_space.low) / 2.0 + (env.action_space.high + env.action_space.low) / 2.0"
   ]
  },
  {
   "cell_type": "code",
   "execution_count": null,
   "metadata": {},
   "outputs": [],
   "source": [
    "returns = []\n",
    "for seed in range(n_seeds):\n",
    "    example_env = gym.make(environment_name)\n",
    "    kwargs = {\"STEP_LIMIT\": n_steps}\n",
    "    if use_python_environment:\n",
    "        def env_factory():\n",
    "            env = gym.make(environment_name)\n",
    "            env.reset(seed=seed)\n",
    "            return env\n",
    "        sac = SAC(env_factory, **kwargs)\n",
    "    else:\n",
    "        sac = SAC(custom_environment, **kwargs)\n",
    "    state = sac.State(seed)\n",
    "    returns_seed = []\n",
    "    for step_i in range(n_steps):\n",
    "        if step_i % evaluation_interval == 0:\n",
    "            returns_seed.append(evaluate_policy(lambda observation: scale_action(state.action(observation), example_env)))\n",
    "        state.step()\n",
    "    returns.append(returns_seed)"
   ]
  },
  {
   "cell_type": "code",
   "execution_count": null,
   "metadata": {},
   "outputs": [],
   "source": [
    "returns = np.array(returns)\n",
    "returns_aggregate = returns.mean(axis=-1)\n",
    "returns_mean = returns_aggregate.mean(axis=0)\n",
    "returns_std = returns_aggregate.std(axis=0)\n",
    "horizontal = range(0, n_steps, evaluation_interval)\n",
    "plt.fill_between(horizontal, returns_mean - returns_std, returns_mean + returns_std, alpha=0.1)\n",
    "plt.plot(horizontal, returns_mean, label=\"TinyRL\")\n",
    "plt.xlabel(\"Steps\")\n",
    "plt.ylabel(\"Returns\")\n",
    "plt.legend()"
   ]
  }
 ],
 "metadata": {
  "kernelspec": {
   "display_name": "tinyrl",
   "language": "python",
   "name": "python3"
  },
  "language_info": {
   "codemirror_mode": {
    "name": "ipython",
    "version": 3
   },
   "file_extension": ".py",
   "mimetype": "text/x-python",
   "name": "python",
   "nbconvert_exporter": "python",
   "pygments_lexer": "ipython3",
   "version": "3.8.10"
  }
 },
 "nbformat": 4,
 "nbformat_minor": 2
}
