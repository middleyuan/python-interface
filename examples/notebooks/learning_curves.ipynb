{
 "cells": [
  {
   "cell_type": "markdown",
   "metadata": {},
   "source": [
    "[![Open In Colab](https://colab.research.google.com/assets/colab-badge.svg)](https://colab.research.google.com/github/rl-tools/pyrltools/blob/master/examples/notebooks/learning_curves.ipynb)"
   ]
  },
  {
   "cell_type": "markdown",
   "metadata": {},
   "source": [
    "# Learning Curve\n",
    "Install dependencies"
   ]
  },
  {
   "cell_type": "code",
   "execution_count": null,
   "metadata": {},
   "outputs": [],
   "source": [
    "!pip install pyrltools[mkl] gymnasium matplotlib"
   ]
  },
  {
   "cell_type": "markdown",
   "metadata": {},
   "source": [
    "If in Colab, clone PyRLtools so that we can use the [example C++ Pendulum implementation](https://github.com/rl-tools/pyrltools/tree/master/examples/custom_environment/environment.h)"
   ]
  },
  {
   "cell_type": "code",
   "execution_count": null,
   "metadata": {},
   "outputs": [],
   "source": [
    "![[ -n \"${COLAB_GPU+set}\" ]] && git clone https://github.com/rl-tools/pyrltools.git || true"
   ]
  },
  {
   "cell_type": "code",
   "execution_count": null,
   "metadata": {},
   "outputs": [],
   "source": [
    "from pyrltools import SAC\n",
    "import matplotlib.pyplot as plt\n",
    "import gymnasium as gym\n",
    "import numpy as np\n",
    "import os"
   ]
  },
  {
   "cell_type": "markdown",
   "metadata": {},
   "source": [
    "Define the C++ environment, so that the JIT compiler can find it (location depends on wether the notebook is run locally or in Colab)"
   ]
  },
  {
   "cell_type": "code",
   "execution_count": null,
   "metadata": {},
   "outputs": [],
   "source": [
    "custom_environment = {\n",
    "    \"path\": os.path.abspath(\"../custom_environment\") if \"COLAB_GPU\" not in os.environ else \"pyrltools/examples/custom_environment\",\n",
    "    \"action_dim\": 1,\n",
    "    \"observation_dim\": 3,\n",
    "}"
   ]
  },
  {
   "cell_type": "code",
   "execution_count": null,
   "metadata": {},
   "outputs": [],
   "source": [
    "n_seeds = 10\n",
    "n_steps = 10000\n",
    "evaluation_interval = 1000\n",
    "environment_name = \"Pendulum-v1\"\n",
    "use_python_environment = False"
   ]
  },
  {
   "cell_type": "code",
   "execution_count": null,
   "metadata": {},
   "outputs": [],
   "source": [
    "def evaluate_policy(policy, n_episodes=10):\n",
    "    env_replay = gym.make(environment_name)\n",
    "    env_replay.reset(seed=0xf00d)\n",
    "    returns = []\n",
    "    for episode_i in range(n_episodes):\n",
    "        observation, _ = env_replay.reset()\n",
    "        finished = False\n",
    "        rewards = 0\n",
    "        while not finished:\n",
    "            action = policy(observation)\n",
    "            observation, reward, terminated, truncated, _ = env_replay.step(action)\n",
    "            rewards += reward\n",
    "            finished = terminated or truncated\n",
    "        returns.append(rewards)\n",
    "    return returns\n",
    "\n",
    "def scale_action(action, env):\n",
    "    return action * (env.action_space.high - env.action_space.low) / 2.0 + (env.action_space.high + env.action_space.low) / 2.0"
   ]
  },
  {
   "cell_type": "code",
   "execution_count": null,
   "metadata": {},
   "outputs": [],
   "source": [
    "returns = []\n",
    "for seed in range(n_seeds):\n",
    "    example_env = gym.make(environment_name)\n",
    "    kwargs = {\"STEP_LIMIT\": n_steps}\n",
    "    if use_python_environment:\n",
    "        def env_factory():\n",
    "            env = gym.make(environment_name)\n",
    "            env.reset(seed=seed)\n",
    "            return env\n",
    "        sac = SAC(env_factory, enable_evaluation=False, **kwargs)\n",
    "    else:\n",
    "        sac = SAC(custom_environment, enable_evaluation=False, **kwargs)\n",
    "    state = sac.State(seed)\n",
    "    returns_seed = []\n",
    "    for step_i in range(n_steps):\n",
    "        if step_i % evaluation_interval == 0:\n",
    "            returns_seed.append(evaluate_policy(lambda observation: scale_action(state.action(observation), example_env)))\n",
    "        state.step()\n",
    "    returns.append(returns_seed)"
   ]
  },
  {
   "cell_type": "code",
   "execution_count": null,
   "metadata": {},
   "outputs": [],
   "source": [
    "returns = np.array(returns)\n",
    "returns_aggregate = returns.mean(axis=-1)\n",
    "returns_mean = returns_aggregate.mean(axis=0)\n",
    "returns_std = returns_aggregate.std(axis=0)\n",
    "horizontal = range(0, n_steps, evaluation_interval)\n",
    "plt.fill_between(horizontal, returns_mean - returns_std, returns_mean + returns_std, alpha=0.1)\n",
    "plt.plot(horizontal, returns_mean, label=\"PyRLtools\")\n",
    "plt.xlabel(\"Steps\")\n",
    "plt.ylabel(\"Returns\")\n",
    "plt.legend()"
   ]
  }
 ],
 "metadata": {
  "kernelspec": {
   "display_name": "pyrltools",
   "language": "python",
   "name": "python3"
  },
  "language_info": {
   "codemirror_mode": {
    "name": "ipython",
    "version": 3
   },
   "file_extension": ".py",
   "mimetype": "text/x-python",
   "name": "python",
   "nbconvert_exporter": "python",
   "pygments_lexer": "ipython3",
   "version": "3.8.10"
  }
 },
 "nbformat": 4,
 "nbformat_minor": 2
}
