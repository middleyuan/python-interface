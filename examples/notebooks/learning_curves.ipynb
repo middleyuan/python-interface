{
 "cells": [
  {
   "cell_type": "code",
   "execution_count": null,
   "metadata": {},
   "outputs": [],
   "source": [
    "!pip install --upgrade pip\n",
    "!pip install tinyrl gymnasium matplotlib stable-baselines3"
   ]
  },
  {
   "cell_type": "code",
   "execution_count": null,
   "metadata": {},
   "outputs": [],
   "source": [
    "# TinyRL\n",
    "from tinyrl import SAC\n",
    "# Stable Baselines3\n",
    "from stable_baselines3 import SAC as SB3_SAC\n",
    "from stable_baselines3.sac import MlpPolicy\n",
    "import os\n",
    "os.environ[\"CUDA_VISIBLE_DEVICES\"] = \"\"\n",
    "import torch\n",
    "# Other\n",
    "import random, os \n",
    "import gymnasium as gym\n",
    "import numpy as np\n",
    "import matplotlib.pyplot as plt\n",
    "\n",
    "custom_environment = {\n",
    "    \"path\": os.path.abspath(\"../custom_environment\"),\n",
    "    \"action_dim\": 1,\n",
    "    \"observation_dim\": 3,\n",
    "}"
   ]
  },
  {
   "cell_type": "code",
   "execution_count": null,
   "metadata": {},
   "outputs": [],
   "source": [
    "n_seeds = 2\n",
    "n_steps = 10000\n",
    "evaluation_interval = 1000\n",
    "environment_name = \"Pendulum-v1\"\n",
    "use_python_environment = True"
   ]
  },
  {
   "cell_type": "code",
   "execution_count": null,
   "metadata": {},
   "outputs": [],
   "source": [
    "def evaluate_policy(policy, environment_name=\"Pendulum-v1\", seed=0xf00d, n_episodes=10):\n",
    "    env_replay = gym.make(environment_name)\n",
    "    env_replay.reset(seed=seed)\n",
    "    returns = []\n",
    "    for episode_i in range(n_episodes):\n",
    "        observation, _ = env_replay.reset()\n",
    "        finished = False\n",
    "        rewards = 0\n",
    "        while not finished:\n",
    "            action = policy(observation)\n",
    "            observation, reward, terminated, truncated, _ = env_replay.step(action)\n",
    "            rewards += reward\n",
    "            finished = terminated or truncated\n",
    "        returns.append(rewards)\n",
    "    return returns\n",
    "\n",
    "def scale_action(action, env):\n",
    "    return action * (env.action_space.high - env.action_space.low) / 2.0 + (env.action_space.high + env.action_space.low) / 2.0"
   ]
  },
  {
   "cell_type": "code",
   "execution_count": null,
   "metadata": {},
   "outputs": [],
   "source": [
    "def train_sb3():\n",
    "    returns = []\n",
    "    for seed in range(n_seeds):\n",
    "        random.seed(seed)\n",
    "        np.random.seed(seed)\n",
    "        torch.manual_seed(seed)\n",
    "        env = gym.make(environment_name)\n",
    "        env.reset(seed=seed)\n",
    "        def policy_factory(obs_dim, action_dim, lr_schedule, **kwargs):\n",
    "            return MlpPolicy(obs_dim, action_dim, lr_schedule, net_arch=[64, 64])\n",
    "        model = SB3_SAC(policy_factory, env, learning_starts = 0, batch_size=100)\n",
    "        returns_step = []\n",
    "        for evaluation_step_i in range(n_steps // evaluation_interval):\n",
    "            model.learn(total_timesteps=evaluation_interval, reset_num_timesteps=False)\n",
    "            def policy(observation):\n",
    "                return model.predict(observation, deterministic=True)[0]\n",
    "            returns_step.append(evaluate_policy(policy, environment_name, seed))\n",
    "        returns.append(returns_step)\n",
    "    return returns"
   ]
  },
  {
   "cell_type": "code",
   "execution_count": null,
   "metadata": {},
   "outputs": [],
   "source": [
    "def train_tinyrl():\n",
    "    returns = []\n",
    "    example_env = gym.make(environment_name)\n",
    "    for seed in range(n_seeds):\n",
    "        if use_python_environment:\n",
    "            def env_factory():\n",
    "                env = gym.make(environment_name)\n",
    "                env.reset(seed=seed)\n",
    "                return env\n",
    "            sac = SAC(env_factory, force_recompile=True)\n",
    "        else:\n",
    "            sac = SAC(custom_environment)\n",
    "        state = sac.State(seed)\n",
    "        returns_step = []\n",
    "        for step_i in range(n_steps):\n",
    "            if step_i % evaluation_interval == 0:\n",
    "                returns_step.append(evaluate_policy(lambda observation: scale_action(state.action(observation), example_env), environment_name=environment_name, seed=seed))\n",
    "            state.step()\n",
    "        returns.append(returns_step)\n",
    "    return returns"
   ]
  },
  {
   "cell_type": "code",
   "execution_count": null,
   "metadata": {},
   "outputs": [],
   "source": [
    "returns_sb3 = train_sb3()\n",
    "returns_tinyrl = train_tinyrl()"
   ]
  },
  {
   "cell_type": "code",
   "execution_count": null,
   "metadata": {},
   "outputs": [],
   "source": [
    "returns_tinyrl = np.array(returns_tinyrl)\n",
    "returns_sb3 = np.array(returns_tinyrl)\n",
    "\n",
    "returns_tinyrl_aggregate = returns_tinyrl.mean(axis=-1)\n",
    "returns_sb3_aggregate = returns_sb3.mean(axis=-1)\n",
    "\n",
    "returns_tinyrl_mean = returns_tinyrl_aggregate.mean(axis=0)\n",
    "returns_sb3_mean = returns_sb3_aggregate.mean(axis=0)\n",
    "returns_tinyrl_std = returns_tinyrl_aggregate.std(axis=0)\n",
    "returns_sb3_std = returns_sb3_aggregate.std(axis=0)\n",
    "\n",
    "horizontal = range(0, n_steps, evaluation_interval)\n",
    "plt.fill_between(horizontal, returns_tinyrl_mean - returns_tinyrl_std, returns_tinyrl_mean + returns_tinyrl_std, alpha=0.1)\n",
    "plt.plot(horizontal, returns_tinyrl_mean, label=\"TinyRL\")\n",
    "plt.fill_between(horizontal, returns_sb3_mean - returns_sb3_std, returns_sb3_mean + returns_sb3_std, alpha=0.1)\n",
    "plt.plot(horizontal, returns_sb3_mean, label=\"Stable Baselines3\")\n",
    "plt.xlabel(\"Steps\")\n",
    "plt.ylabel(\"Returns\")\n",
    "plt.legend()"
   ]
  }
 ],
 "metadata": {
  "kernelspec": {
   "display_name": "tinyrl",
   "language": "python",
   "name": "python3"
  },
  "language_info": {
   "codemirror_mode": {
    "name": "ipython",
    "version": 3
   },
   "file_extension": ".py",
   "mimetype": "text/x-python",
   "name": "python",
   "nbconvert_exporter": "python",
   "pygments_lexer": "ipython3",
   "version": "3.8.10"
  }
 },
 "nbformat": 4,
 "nbformat_minor": 2
}
