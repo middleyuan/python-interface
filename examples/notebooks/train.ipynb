{
 "cells": [
  {
   "cell_type": "code",
   "execution_count": null,
   "metadata": {},
   "outputs": [],
   "source": [
    "!pip install tinyrl[mkl] gymnasium"
   ]
  },
  {
   "cell_type": "code",
   "execution_count": null,
   "metadata": {},
   "outputs": [],
   "source": [
    "from tinyrl import SAC\n",
    "import gymnasium as gym\n",
    "import numpy as np"
   ]
  },
  {
   "cell_type": "code",
   "execution_count": null,
   "metadata": {},
   "outputs": [],
   "source": [
    "seed=0xf00d\n",
    "environment_name = \"Pendulum-v1\""
   ]
  },
  {
   "cell_type": "code",
   "execution_count": null,
   "metadata": {},
   "outputs": [],
   "source": [
    "compile_time_parameters = {\"STEP_LIMIT\": 10000}\n",
    "def env_factory():\n",
    "    env = gym.make(environment_name)\n",
    "    env.reset(seed=seed)\n",
    "    return env\n",
    "sac = SAC(env_factory, **compile_time_parameters)\n",
    "state = sac.State(seed)\n",
    "returns_seed = []\n",
    "finished = False\n",
    "while not finished:\n",
    "    finished = state.step()"
   ]
  }
 ],
 "metadata": {
  "kernelspec": {
   "display_name": "tinyrl",
   "language": "python",
   "name": "python3"
  },
  "language_info": {
   "codemirror_mode": {
    "name": "ipython",
    "version": 3
   },
   "file_extension": ".py",
   "mimetype": "text/x-python",
   "name": "python",
   "nbconvert_exporter": "python",
   "pygments_lexer": "ipython3",
   "version": "3.8.10"
  }
 },
 "nbformat": 4,
 "nbformat_minor": 2
}
