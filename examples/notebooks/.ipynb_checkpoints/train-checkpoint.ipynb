{
 "cells": [
  {
   "cell_type": "markdown",
   "metadata": {},
   "source": [
    "# Minimal Training Example for Gymnasium Environments\n",
    "[![Open In Colab](https://colab.research.google.com/assets/colab-badge.svg)](https://colab.research.google.com/github/rl-tools/rltools/blob/master/examples/notebooks/train.ipynb)"
   ]
  },
  {
   "cell_type": "code",
   "execution_count": null,
   "metadata": {},
   "outputs": [],
   "source": [
    "!pip install rltools[mkl] gymnasium"
   ]
  },
  {
   "cell_type": "code",
   "execution_count": null,
   "metadata": {},
   "outputs": [],
   "source": [
    "from rltools import SAC\n",
    "import gymnasium as gym\n",
    "from gymnasium.experimental.wrappers import RescaleActionV0\n",
    "\n",
    "seed=0xf00d\n",
    "environment_name = \"Pendulum-v1\""
   ]
  },
  {
   "cell_type": "markdown",
   "metadata": {},
   "source": [
    "### Training"
   ]
  },
  {
   "cell_type": "code",
   "execution_count": null,
   "metadata": {},
   "outputs": [],
   "source": [
    "def env_factory():\n",
    "    env = gym.make(environment_name)\n",
    "    return RescaleActionV0(env, -1, 1)\n",
    "sac = SAC(env_factory)\n",
    "state = sac.State(seed)\n",
    "finished = False\n",
    "while not finished:\n",
    "    finished = state.step()"
   ]
  },
  {
   "cell_type": "markdown",
   "metadata": {},
   "source": [
    "### Inference\n",
    "Install additional dependencies for visualizing the environment"
   ]
  },
  {
   "cell_type": "code",
   "execution_count": null,
   "metadata": {},
   "outputs": [],
   "source": [
    "!pip install gymnasium[classic-control] imageio"
   ]
  },
  {
   "cell_type": "code",
   "execution_count": null,
   "metadata": {},
   "outputs": [],
   "source": [
    "import matplotlib.pyplot as plt\n",
    "import gymnasium as gym\n",
    "import imageio\n",
    "from IPython.display import Image, display\n",
    "\n",
    "env = gym.make('Pendulum-v1', render_mode='rgb_array')\n",
    "env.reset(seed=seed)"
   ]
  },
  {
   "cell_type": "markdown",
   "metadata": {},
   "source": [
    "You can run subsequent rollouts by re-executing the following cell:"
   ]
  },
  {
   "cell_type": "code",
   "execution_count": null,
   "metadata": {},
   "outputs": [],
   "source": [
    "frames = []\n",
    "observation, _ = env.reset()\n",
    "finished = False\n",
    "while not finished:\n",
    "  frames.append(env.render())\n",
    "  action = state.action(observation)\n",
    "  observation, reward, terminated, truncated, _ = env.step(action)\n",
    "  finished = terminated or truncated\n",
    "gif_path = \"animation.gif\"\n",
    "imageio.mimsave(gif_path, frames, fps=1/env.env.env.env.dt)\n",
    "display(Image(filename=gif_path))"
   ]
  }
 ],
 "metadata": {
  "kernelspec": {
   "display_name": "rltools",
   "language": "python",
   "name": "python3"
  },
  "language_info": {
   "codemirror_mode": {
    "name": "ipython",
    "version": 3
   },
   "file_extension": ".py",
   "mimetype": "text/x-python",
   "name": "python",
   "nbconvert_exporter": "python",
   "pygments_lexer": "ipython3",
   "version": "3.11.7"
  }
 },
 "nbformat": 4,
 "nbformat_minor": 2
}
